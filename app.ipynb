{
 "cells": [
  {
   "cell_type": "code",
   "execution_count": null,
   "id": "e65ac427",
   "metadata": {},
   "outputs": [],
   "source": [
    "from flask import Flask, request\n",
    "import pandas as pd\n",
    "import numpy as np\n",
    "import smtplib\n",
    "import getpass\n",
    "app = Flask(__name__)\n",
    "\n",
    "@app.route('/submit', methods=['POST'])\n",
    "def submit():\n",
    "  email = request.json['email']\n",
    "  price = request.json['price']\n",
    "  \n",
    "  print('Email:', email)\n",
    "  print('Price:', price)\n",
    "  data = pd.read_csv(r\"C:\\\\Users\\\\DELL\\\\GPTEXTENSION\\\\data.csv\",index_col=0)\n",
    "# print(column_array)\n",
    "# print(column_array[-2])\n",
    "# print(column_array[-1])\n",
    "  dat = np.array(data)\n",
    "  current_price=dat[len(dat)-1]\n",
    "#   print(required_price)\n",
    "  if(int(price) > int(current_price)):\n",
    "    HOST = \"smtp-mail.outlook.com\"\n",
    "    PORT = 587\n",
    "\n",
    "    FROM_EMAIL = \"<email>\"\n",
    "    TO_EMAIL = email\n",
    "    PASSWORD = \"<password>\"\n",
    "\n",
    "    MESSAGE = \"\"\"Subject: <add mail subject here>\n",
    "    <add mail content here>\"\"\"\n",
    "\n",
    "    smtp = smtplib.SMTP(HOST, PORT)\n",
    "\n",
    "    status_code, response = smtp.ehlo()\n",
    "    print(f\"[*] Echoing the server: {status_code} {response}\")\n",
    "\n",
    "    status_code, response = smtp.starttls()\n",
    "    print(f\"[*] Starting TLS connection: {status_code} {response}\")\n",
    "\n",
    "    status_code, response = smtp.login(FROM_EMAIL, PASSWORD)\n",
    "    print(f\"[*] Logging in: {status_code} {response}\")\n",
    "\n",
    "    smtp.sendmail(FROM_EMAIL, TO_EMAIL, MESSAGE)\n",
    "    smtp.quit()\n",
    "  return { 'success': True }\n",
    "\n",
    "if __name__ == '__main__':\n",
    "  app.run(debug=True)\n"
   ]
  }
 ],
 "metadata": {
  "kernelspec": {
   "display_name": "Python 3 (ipykernel)",
   "language": "python",
   "name": "python3"
  },
  "language_info": {
   "codemirror_mode": {
    "name": "ipython",
    "version": 3
   },
   "file_extension": ".py",
   "mimetype": "text/x-python",
   "name": "python",
   "nbconvert_exporter": "python",
   "pygments_lexer": "ipython3",
   "version": "3.9.13"
  }
 },
 "nbformat": 4,
 "nbformat_minor": 5
}
